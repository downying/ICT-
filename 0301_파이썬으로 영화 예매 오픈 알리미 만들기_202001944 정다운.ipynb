{
 "cells": [
  {
   "cell_type": "markdown",
   "metadata": {},
   "source": [
    "# 1. 모듈 설치 및 가져오기"
   ]
  },
  {
   "cell_type": "code",
   "execution_count": 1,
   "metadata": {},
   "outputs": [
    {
     "name": "stdout",
     "output_type": "stream",
     "text": [
      "Requirement already satisfied: bs4 in c:\\users\\tkwk3\\anaconda3\\lib\\site-packages (0.0.1)\n",
      "Requirement already satisfied: beautifulsoup4 in c:\\users\\tkwk3\\anaconda3\\lib\\site-packages (from bs4) (4.9.3)\n",
      "Requirement already satisfied: soupsieve>1.2; python_version >= \"3.0\" in c:\\users\\tkwk3\\anaconda3\\lib\\site-packages (from beautifulsoup4->bs4) (2.0.1)\n"
     ]
    }
   ],
   "source": [
    "# bs4와 requests 모듈 설치 \n",
    "!pip install bs4"
   ]
  },
  {
   "cell_type": "code",
   "execution_count": 2,
   "metadata": {},
   "outputs": [
    {
     "name": "stdout",
     "output_type": "stream",
     "text": [
      "Requirement already satisfied: requests in c:\\users\\tkwk3\\anaconda3\\lib\\site-packages (2.24.0)\n",
      "Requirement already satisfied: certifi>=2017.4.17 in c:\\users\\tkwk3\\anaconda3\\lib\\site-packages (from requests) (2022.12.7)\n",
      "Requirement already satisfied: idna<3,>=2.5 in c:\\users\\tkwk3\\anaconda3\\lib\\site-packages (from requests) (2.10)\n",
      "Requirement already satisfied: urllib3!=1.25.0,!=1.25.1,<1.26,>=1.21.1 in c:\\users\\tkwk3\\anaconda3\\lib\\site-packages (from requests) (1.25.11)\n",
      "Requirement already satisfied: chardet<4,>=3.0.2 in c:\\users\\tkwk3\\anaconda3\\lib\\site-packages (from requests) (3.0.4)\n"
     ]
    }
   ],
   "source": [
    "!pip install requests"
   ]
  },
  {
   "cell_type": "code",
   "execution_count": 3,
   "metadata": {},
   "outputs": [],
   "source": [
    "#설치 모듈 불러오기\n",
    "import requests \n",
    "from bs4 import BeautifulSoup"
   ]
  },
  {
   "cell_type": "code",
   "execution_count": 7,
   "metadata": {},
   "outputs": [
    {
     "name": "stdout",
     "output_type": "stream",
     "text": [
      "Requirement already satisfied: selenium in c:\\users\\tkwk3\\anaconda3\\lib\\site-packages (4.8.2)\n",
      "Requirement already satisfied: urllib3[socks]~=1.26 in c:\\users\\tkwk3\\anaconda3\\lib\\site-packages (from selenium) (1.26.14)\n",
      "Requirement already satisfied: trio~=0.17 in c:\\users\\tkwk3\\anaconda3\\lib\\site-packages (from selenium) (0.22.0)\n",
      "Requirement already satisfied: trio-websocket~=0.9 in c:\\users\\tkwk3\\anaconda3\\lib\\site-packages (from selenium) (0.9.2)\n",
      "Requirement already satisfied: certifi>=2021.10.8 in c:\\users\\tkwk3\\anaconda3\\lib\\site-packages (from selenium) (2022.12.7)\n",
      "Requirement already satisfied: PySocks!=1.5.7,<2.0,>=1.5.6; extra == \"socks\" in c:\\users\\tkwk3\\anaconda3\\lib\\site-packages (from urllib3[socks]~=1.26->selenium) (1.7.1)\n",
      "Requirement already satisfied: async-generator>=1.9 in c:\\users\\tkwk3\\anaconda3\\lib\\site-packages (from trio~=0.17->selenium) (1.10)\n",
      "Requirement already satisfied: outcome in c:\\users\\tkwk3\\anaconda3\\lib\\site-packages (from trio~=0.17->selenium) (1.2.0)\n",
      "Requirement already satisfied: attrs>=19.2.0 in c:\\users\\tkwk3\\anaconda3\\lib\\site-packages (from trio~=0.17->selenium) (20.3.0)\n",
      "Requirement already satisfied: sortedcontainers in c:\\users\\tkwk3\\anaconda3\\lib\\site-packages (from trio~=0.17->selenium) (2.2.2)\n",
      "Requirement already satisfied: exceptiongroup>=1.0.0rc9; python_version < \"3.11\" in c:\\users\\tkwk3\\anaconda3\\lib\\site-packages (from trio~=0.17->selenium) (1.1.0)\n",
      "Requirement already satisfied: sniffio in c:\\users\\tkwk3\\anaconda3\\lib\\site-packages (from trio~=0.17->selenium) (1.3.0)\n",
      "Requirement already satisfied: idna in c:\\users\\tkwk3\\anaconda3\\lib\\site-packages (from trio~=0.17->selenium) (2.10)\n",
      "Requirement already satisfied: cffi>=1.14; os_name == \"nt\" and implementation_name != \"pypy\" in c:\\users\\tkwk3\\anaconda3\\lib\\site-packages (from trio~=0.17->selenium) (1.14.3)\n",
      "Requirement already satisfied: wsproto>=0.14 in c:\\users\\tkwk3\\anaconda3\\lib\\site-packages (from trio-websocket~=0.9->selenium) (1.2.0)\n",
      "Requirement already satisfied: pycparser in c:\\users\\tkwk3\\anaconda3\\lib\\site-packages (from cffi>=1.14; os_name == \"nt\" and implementation_name != \"pypy\"->trio~=0.17->selenium) (2.20)\n",
      "Requirement already satisfied: h11<1,>=0.9.0 in c:\\users\\tkwk3\\anaconda3\\lib\\site-packages (from wsproto>=0.14->trio-websocket~=0.9->selenium) (0.14.0)\n"
     ]
    }
   ],
   "source": [
    "!pip install selenium"
   ]
  },
  {
   "cell_type": "code",
   "execution_count": 5,
   "metadata": {},
   "outputs": [],
   "source": [
    "# 프롬프트를 이용하여 selenium 설치\n",
    "from selenium import webdriver"
   ]
  },
  {
   "cell_type": "markdown",
   "metadata": {},
   "source": [
    "# 2-1. cgv 상영시간표 정보 가져오기"
   ]
  },
  {
   "cell_type": "code",
   "execution_count": 6,
   "metadata": {},
   "outputs": [],
   "source": [
    "# 웹 드라이버 설치 \n",
    "driver = webdriver.Chrome('chromedriver')"
   ]
  },
  {
   "cell_type": "code",
   "execution_count": 16,
   "metadata": {},
   "outputs": [],
   "source": [
    "# 광주터미널 imax 영화알리미\n",
    "\n",
    "url = 'http://www.cgv.co.kr/theaters/?areacode=206%2C04%2C06&theaterCode=0090&date=202303011'\n",
    "driver.get(url)"
   ]
  },
  {
   "cell_type": "code",
   "execution_count": 17,
   "metadata": {},
   "outputs": [],
   "source": [
    "driver.switch_to.frame('ifrm_movie_time_table')\n",
    "\n",
    "html=driver.page_source\n",
    "\n",
    "soup=BeautifulSoup(html,'xml')\n",
    "\n",
    "imax=soup.select_one('span.imax')"
   ]
  },
  {
   "cell_type": "code",
   "execution_count": 18,
   "metadata": {},
   "outputs": [
    {
     "name": "stdout",
     "output_type": "stream",
     "text": [
      "<span class=\"imax\">IMAX</span>\n"
     ]
    }
   ],
   "source": [
    "print(imax)"
   ]
  },
  {
   "cell_type": "code",
   "execution_count": 19,
   "metadata": {},
   "outputs": [
    {
     "name": "stdout",
     "output_type": "stream",
     "text": [
      "대외비\n",
      "귀멸의 칼날-상현집결, 그리고 도공 마을로\n",
      "멍뭉이\n",
      "아임 히어로 더 파이널\n",
      "더 퍼스트 슬램덩크\n",
      "더 웨일\n",
      "카운트\n",
      "에브리씽 에브리웨어 올 앳 원스+\n",
      "서치 2\n",
      "앤트맨과 와스프-퀀텀매니아\n",
      "마루이 비디오\n",
      "상견니\n",
      "다음 소희\n",
      "영웅\n"
     ]
    }
   ],
   "source": [
    "# 제목 추출\n",
    "title_list = soup.select('div.info-movie')\n",
    "for i in title_list :\n",
    "    print(i.select_one('a > strong').text.strip())"
   ]
  },
  {
   "cell_type": "code",
   "execution_count": 15,
   "metadata": {},
   "outputs": [
    {
     "name": "stdout",
     "output_type": "stream",
     "text": [
      "[<div class=\"info-movie\">\n",
      "<!-- 영상물 등급 노출 변경 2022.08.24 -->\n",
      "<i class=\"cgvIcon etc age15\">15</i>\n",
      "<!-- <span class=\"ico-grade 15\">\n",
      "                                        15</span>--> <a href=\"/movies/detail-view/?midx=86814\" target=\"_parent\"><strong>\n",
      "                                                대외비</strong></a>\n",
      "<span class=\"round lightblue\">\n",
      "<em>\n",
      "                                            상영중</em>\n",
      "</span><span class=\"\">\n",
      "<em>\n",
      "</em>\n",
      "</span><i>\n",
      "                                        범죄,드라마</i>/ <i>\n",
      "                                            116분</i>/ <i>\n",
      "                                                2023.03.01\n",
      "                                                개봉</i>\n",
      "</div>, <div class=\"info-movie\">\n",
      "<!-- 영상물 등급 노출 변경 2022.08.24 -->\n",
      "<i class=\"cgvIcon etc age15\">15</i>\n",
      "<!-- <span class=\"ico-grade 15\">\n",
      "                                        15</span>--> <a href=\"/movies/detail-view/?midx=86826\" target=\"_parent\"><strong>\n",
      "                                                귀멸의 칼날-상현집결, 그리고 도공 마을로</strong></a>\n",
      "<span class=\"round lightblue\">\n",
      "<em>\n",
      "                                            상영중</em>\n",
      "</span><span class=\"\">\n",
      "<em>\n",
      "</em>\n",
      "</span><i>\n",
      "                                        애니메이션</i>/ <i>\n",
      "                                            110분</i>/ <i>\n",
      "                                                2023.03.02\n",
      "                                                개봉</i>\n",
      "</div>, <div class=\"info-movie\">\n",
      "<!-- 영상물 등급 노출 변경 2022.08.24 -->\n",
      "<i class=\"cgvIcon etc ageAll\">All</i>\n",
      "<!-- <span class=\"ico-grade All\">\n",
      "                                        All</span>--> <a href=\"/movies/detail-view/?midx=86797\" target=\"_parent\"><strong>\n",
      "                                                멍뭉이</strong></a>\n",
      "<span class=\"round lightblue\">\n",
      "<em>\n",
      "                                            상영중</em>\n",
      "</span><span class=\"\">\n",
      "<em>\n",
      "</em>\n",
      "</span><i>\n",
      "                                        드라마</i>/ <i>\n",
      "                                            113분</i>/ <i>\n",
      "                                                2023.03.01\n",
      "                                                개봉</i>\n",
      "</div>, <div class=\"info-movie\">\n",
      "<!-- 영상물 등급 노출 변경 2022.08.24 -->\n",
      "<i class=\"cgvIcon etc ageAll\">All</i>\n",
      "<!-- <span class=\"ico-grade All\">\n",
      "                                        All</span>--> <a href=\"/movies/detail-view/?midx=86829\" target=\"_parent\"><strong>\n",
      "                                                아임 히어로 더 파이널</strong></a>\n",
      "<span class=\"round lightblue\">\n",
      "<em>\n",
      "                                            상영중</em>\n",
      "</span><span class=\"\">\n",
      "<em>\n",
      "</em>\n",
      "</span><i>\n",
      "                                        다큐멘터리,</i>/ <i>\n",
      "                                            102분</i>/ <i>\n",
      "                                                2023.03.01\n",
      "                                                개봉</i>\n",
      "</div>, <div class=\"info-movie\">\n",
      "<!-- 영상물 등급 노출 변경 2022.08.24 -->\n",
      "<i class=\"cgvIcon etc age12\">12</i>\n",
      "<!-- <span class=\"ico-grade 12\">\n",
      "                                        12</span>--> <a href=\"/movies/detail-view/?midx=86720\" target=\"_parent\"><strong>\n",
      "                                                더 퍼스트 슬램덩크</strong></a>\n",
      "<span class=\"round lightblue\">\n",
      "<em>\n",
      "                                            상영중</em>\n",
      "</span><span class=\"\">\n",
      "<em>\n",
      "</em>\n",
      "</span><i>\n",
      "                                        애니메이션</i>/ <i>\n",
      "                                            124분</i>/ <i>\n",
      "                                                2023.01.04\n",
      "                                                개봉</i>\n",
      "</div>, <div class=\"info-movie\">\n",
      "<!-- 영상물 등급 노출 변경 2022.08.24 -->\n",
      "<i class=\"cgvIcon etc age15\">15</i>\n",
      "<!-- <span class=\"ico-grade 15\">\n",
      "                                        15</span>--> <a href=\"/movies/detail-view/?midx=86827\" target=\"_parent\"><strong>\n",
      "                                                더 웨일</strong></a>\n",
      "<span class=\"round lightblue\">\n",
      "<em>\n",
      "                                            상영중</em>\n",
      "</span><span class=\"\">\n",
      "<em>\n",
      "</em>\n",
      "</span><i>\n",
      "                                        드라마</i>/ <i>\n",
      "                                            117분</i>/ <i>\n",
      "                                                2023.03.01\n",
      "                                                개봉</i>\n",
      "</div>, <div class=\"info-movie\">\n",
      "<!-- 영상물 등급 노출 변경 2022.08.24 -->\n",
      "<i class=\"cgvIcon etc age12\">12</i>\n",
      "<!-- <span class=\"ico-grade 12\">\n",
      "                                        12</span>--> <a href=\"/movies/detail-view/?midx=86798\" target=\"_parent\"><strong>\n",
      "                                                카운트</strong></a>\n",
      "<span class=\"round lightblue\">\n",
      "<em>\n",
      "                                            상영중</em>\n",
      "</span><span class=\"\">\n",
      "<em>\n",
      "</em>\n",
      "</span><i>\n",
      "                                        드라마</i>/ <i>\n",
      "                                            109분</i>/ <i>\n",
      "                                                2023.02.22\n",
      "                                                개봉</i>\n",
      "</div>, <div class=\"info-movie\">\n",
      "<!-- 영상물 등급 노출 변경 2022.08.24 -->\n",
      "<i class=\"cgvIcon etc age15\">15</i>\n",
      "<!-- <span class=\"ico-grade 15\">\n",
      "                                        15</span>--> <a href=\"/movies/detail-view/?midx=86833\" target=\"_parent\"><strong>\n",
      "                                                에브리씽 에브리웨어 올 앳 원스+</strong></a>\n",
      "<span class=\"round lightblue\">\n",
      "<em>\n",
      "                                            상영중</em>\n",
      "</span><span class=\"\">\n",
      "<em>\n",
      "</em>\n",
      "</span><i>\n",
      "                                        액션</i>/ <i>\n",
      "                                            150분</i>/ <i>\n",
      "                                                2023.03.01\n",
      "                                                개봉</i>\n",
      "</div>, <div class=\"info-movie\">\n",
      "<!-- 영상물 등급 노출 변경 2022.08.24 -->\n",
      "<i class=\"cgvIcon etc age12\">12</i>\n",
      "<!-- <span class=\"ico-grade 12\">\n",
      "                                        12</span>--> <a href=\"/movies/detail-view/?midx=86770\" target=\"_parent\"><strong>\n",
      "                                                서치 2</strong></a>\n",
      "<span class=\"round lightblue\">\n",
      "<em>\n",
      "                                            상영중</em>\n",
      "</span><span class=\"\">\n",
      "<em>\n",
      "</em>\n",
      "</span><i>\n",
      "                                        미스터리,스릴러</i>/ <i>\n",
      "                                            111분</i>/ <i>\n",
      "                                                2023.02.22\n",
      "                                                개봉</i>\n",
      "</div>, <div class=\"info-movie\">\n",
      "<!-- 영상물 등급 노출 변경 2022.08.24 -->\n",
      "<i class=\"cgvIcon etc age12\">12</i>\n",
      "<!-- <span class=\"ico-grade 12\">\n",
      "                                        12</span>--> <a href=\"/movies/detail-view/?midx=86796\" target=\"_parent\"><strong>\n",
      "                                                앤트맨과 와스프-퀀텀매니아</strong></a>\n",
      "<span class=\"round lightblue\">\n",
      "<em>\n",
      "                                            상영중</em>\n",
      "</span><span class=\"\">\n",
      "<em>\n",
      "</em>\n",
      "</span><i>\n",
      "</i>/ <i>\n",
      "                                            124분</i>/ <i>\n",
      "                                                2023.02.15\n",
      "                                                개봉</i>\n",
      "</div>, <div class=\"info-movie\">\n",
      "<!-- 영상물 등급 노출 변경 2022.08.24 -->\n",
      "<i class=\"cgvIcon etc age15\">15</i>\n",
      "<!-- <span class=\"ico-grade 15\">\n",
      "                                        15</span>--> <a href=\"/movies/detail-view/?midx=86772\" target=\"_parent\"><strong>\n",
      "                                                마루이 비디오</strong></a>\n",
      "<span class=\"round lightblue\">\n",
      "<em>\n",
      "                                            상영중</em>\n",
      "</span><span class=\"\">\n",
      "<em>\n",
      "</em>\n",
      "</span><i>\n",
      "                                        호러</i>/ <i>\n",
      "                                            87분</i>/ <i>\n",
      "                                                2023.02.22\n",
      "                                                개봉</i>\n",
      "</div>, <div class=\"info-movie\">\n",
      "<!-- 영상물 등급 노출 변경 2022.08.24 -->\n",
      "<i class=\"cgvIcon etc age15\">15</i>\n",
      "<!-- <span class=\"ico-grade 15\">\n",
      "                                        15</span>--> <a href=\"/movies/detail-view/?midx=86750\" target=\"_parent\"><strong>\n",
      "                                                상견니</strong></a>\n",
      "<span class=\"round lightblue\">\n",
      "<em>\n",
      "                                            상영중</em>\n",
      "</span><span class=\"\">\n",
      "<em>\n",
      "</em>\n",
      "</span><i>\n",
      "                                        드라마,환타지,로맨스,멜로</i>/ <i>\n",
      "                                            107분</i>/ <i>\n",
      "                                                2023.01.25\n",
      "                                                개봉</i>\n",
      "</div>, <div class=\"info-movie\">\n",
      "<!-- 영상물 등급 노출 변경 2022.08.24 -->\n",
      "<i class=\"cgvIcon etc age15\">15</i>\n",
      "<!-- <span class=\"ico-grade 15\">\n",
      "                                        15</span>--> <a href=\"/movies/detail-view/?midx=86752\" target=\"_parent\"><strong>\n",
      "                                                다음 소희</strong></a>\n",
      "<span class=\"round lightblue\">\n",
      "<em>\n",
      "                                            상영중</em>\n",
      "</span><span class=\"\">\n",
      "<em>\n",
      "</em>\n",
      "</span><i>\n",
      "                                        드라마</i>/ <i>\n",
      "                                            138분</i>/ <i>\n",
      "                                                2023.02.08\n",
      "                                                개봉</i>\n",
      "</div>, <div class=\"info-movie\">\n",
      "<!-- 영상물 등급 노출 변경 2022.08.24 -->\n",
      "<i class=\"cgvIcon etc age12\">12</i>\n",
      "<!-- <span class=\"ico-grade 12\">\n",
      "                                        12</span>--> <a href=\"/movies/detail-view/?midx=83203\" target=\"_parent\"><strong>\n",
      "                                                영웅</strong></a>\n",
      "<span class=\"round lightblue\">\n",
      "<em>\n",
      "                                            상영중</em>\n",
      "</span><span class=\"\">\n",
      "<em>\n",
      "</em>\n",
      "</span><i>\n",
      "                                        드라마,뮤지컬</i>/ <i>\n",
      "                                            120분</i>/ <i>\n",
      "                                                2022.12.21\n",
      "                                                개봉</i>\n",
      "</div>, <div class=\"info-movie\">\n",
      "<!-- 영상물 등급 노출 변경 2022.08.24 -->\n",
      "<i class=\"cgvIcon etc ageAll\">All</i>\n",
      "<!-- <span class=\"ico-grade All\">\n",
      "                                        All</span>--> <a href=\"/movies/detail-view/?midx=86800\" target=\"_parent\"><strong>\n",
      "                                                미녀와 야수-마법에 걸린 왕자</strong></a>\n",
      "<span class=\"round lightblue\">\n",
      "<em>\n",
      "                                            상영중</em>\n",
      "</span><span class=\"\">\n",
      "<em>\n",
      "</em>\n",
      "</span><i>\n",
      "                                        애니메이션</i>/ <i>\n",
      "                                            98분</i>/ <i>\n",
      "                                                2023.02.22\n",
      "                                                개봉</i>\n",
      "</div>]\n"
     ]
    }
   ],
   "source": [
    "print(title_list)"
   ]
  },
  {
   "cell_type": "markdown",
   "metadata": {},
   "source": [
    "# 2-2. IMAX 확인"
   ]
  },
  {
   "cell_type": "code",
   "execution_count": 109,
   "metadata": {},
   "outputs": [
    {
     "name": "stdout",
     "output_type": "stream",
     "text": [
      "IMAX 예매가 열렸습니다.\n"
     ]
    }
   ],
   "source": [
    "if(imax) :\n",
    "    print('IMAX 예매가 열렸습니다.')\n",
    "else :\n",
    "    print('IMAX 예매가 아직 열리지 않았습니다.')"
   ]
  },
  {
   "cell_type": "code",
   "execution_count": 110,
   "metadata": {},
   "outputs": [
    {
     "name": "stdout",
     "output_type": "stream",
     "text": [
      "앤트맨과 와스프-퀀텀매니아 IMAX 예매가 열렸습니다.\n"
     ]
    }
   ],
   "source": [
    "# imax가 열린 제목까지 추출\n",
    "if(imax) :\n",
    "    iimax = imax.find_parent('div', class_='col-times')\n",
    "    title = iimax.select_one('div.info-movie > a > strong').text.strip()\n",
    "    print(title + ' ' + 'IMAX 예매가 열렸습니다.')\n",
    "    \n",
    "else :\n",
    "    print('IMAX 예매가 아직 열리지 않았습니다.')\n",
    "    \n"
   ]
  },
  {
   "cell_type": "markdown",
   "metadata": {},
   "source": [
    "# 3. 텔레그램 봇 만들기"
   ]
  },
  {
   "cell_type": "code",
   "execution_count": 111,
   "metadata": {},
   "outputs": [
    {
     "name": "stdout",
     "output_type": "stream",
     "text": [
      "Requirement already satisfied: python-telegram-bot in c:\\users\\tkwk3\\anaconda3\\lib\\site-packages (20.1)\n",
      "Requirement already satisfied: httpx[http2]~=0.23.3 in c:\\users\\tkwk3\\anaconda3\\lib\\site-packages (from python-telegram-bot) (0.23.3)\n",
      "Requirement already satisfied: httpcore<0.17.0,>=0.15.0 in c:\\users\\tkwk3\\anaconda3\\lib\\site-packages (from httpx[http2]~=0.23.3->python-telegram-bot) (0.16.3)\n",
      "Requirement already satisfied: rfc3986[idna2008]<2,>=1.3 in c:\\users\\tkwk3\\anaconda3\\lib\\site-packages (from httpx[http2]~=0.23.3->python-telegram-bot) (1.5.0)\n",
      "Requirement already satisfied: certifi in c:\\users\\tkwk3\\anaconda3\\lib\\site-packages (from httpx[http2]~=0.23.3->python-telegram-bot) (2022.12.7)\n",
      "Requirement already satisfied: sniffio in c:\\users\\tkwk3\\anaconda3\\lib\\site-packages (from httpx[http2]~=0.23.3->python-telegram-bot) (1.3.0)\n",
      "Requirement already satisfied: h2<5,>=3; extra == \"http2\" in c:\\users\\tkwk3\\anaconda3\\lib\\site-packages (from httpx[http2]~=0.23.3->python-telegram-bot) (4.1.0)\n",
      "Requirement already satisfied: h11<0.15,>=0.13 in c:\\users\\tkwk3\\anaconda3\\lib\\site-packages (from httpcore<0.17.0,>=0.15.0->httpx[http2]~=0.23.3->python-telegram-bot) (0.14.0)\n",
      "Requirement already satisfied: anyio<5.0,>=3.0 in c:\\users\\tkwk3\\anaconda3\\lib\\site-packages (from httpcore<0.17.0,>=0.15.0->httpx[http2]~=0.23.3->python-telegram-bot) (3.6.2)\n",
      "Requirement already satisfied: idna; extra == \"idna2008\" in c:\\users\\tkwk3\\anaconda3\\lib\\site-packages (from rfc3986[idna2008]<2,>=1.3->httpx[http2]~=0.23.3->python-telegram-bot) (2.10)\n",
      "Requirement already satisfied: hyperframe<7,>=6.0 in c:\\users\\tkwk3\\anaconda3\\lib\\site-packages (from h2<5,>=3; extra == \"http2\"->httpx[http2]~=0.23.3->python-telegram-bot) (6.0.1)\n",
      "Requirement already satisfied: hpack<5,>=4.0 in c:\\users\\tkwk3\\anaconda3\\lib\\site-packages (from h2<5,>=3; extra == \"http2\"->httpx[http2]~=0.23.3->python-telegram-bot) (4.0.0)\n"
     ]
    }
   ],
   "source": [
    "!pip install python-telegram-bot"
   ]
  },
  {
   "cell_type": "code",
   "execution_count": 112,
   "metadata": {},
   "outputs": [],
   "source": [
    "import telegram"
   ]
  },
  {
   "cell_type": "code",
   "execution_count": 116,
   "metadata": {},
   "outputs": [
    {
     "name": "stderr",
     "output_type": "stream",
     "text": [
      "<ipython-input-116-6a22efcca1be>:3: RuntimeWarning: coroutine 'Bot.get_updates' was never awaited\n",
      "  for i in bot.getUpdates() :\n",
      "RuntimeWarning: Enable tracemalloc to get the object allocation traceback\n"
     ]
    },
    {
     "ename": "TypeError",
     "evalue": "'coroutine' object is not iterable",
     "output_type": "error",
     "traceback": [
      "\u001b[1;31m---------------------------------------------------------------------------\u001b[0m",
      "\u001b[1;31mTypeError\u001b[0m                                 Traceback (most recent call last)",
      "\u001b[1;32m<ipython-input-116-6a22efcca1be>\u001b[0m in \u001b[0;36m<module>\u001b[1;34m\u001b[0m\n\u001b[0;32m      1\u001b[0m \u001b[0mbot\u001b[0m \u001b[1;33m=\u001b[0m \u001b[0mtelegram\u001b[0m\u001b[1;33m.\u001b[0m\u001b[0mBot\u001b[0m\u001b[1;33m(\u001b[0m\u001b[0mtoken\u001b[0m \u001b[1;33m=\u001b[0m \u001b[1;34m'5613507376:AAHiMYXYfiJ38P-LAAl8vioYIN3XL7G4roU'\u001b[0m\u001b[1;33m)\u001b[0m\u001b[1;33m\u001b[0m\u001b[1;33m\u001b[0m\u001b[0m\n\u001b[0;32m      2\u001b[0m \u001b[1;33m\u001b[0m\u001b[0m\n\u001b[1;32m----> 3\u001b[1;33m \u001b[1;32mfor\u001b[0m \u001b[0mi\u001b[0m \u001b[1;32min\u001b[0m \u001b[0mbot\u001b[0m\u001b[1;33m.\u001b[0m\u001b[0mgetUpdates\u001b[0m\u001b[1;33m(\u001b[0m\u001b[1;33m)\u001b[0m \u001b[1;33m:\u001b[0m\u001b[1;33m\u001b[0m\u001b[1;33m\u001b[0m\u001b[0m\n\u001b[0m\u001b[0;32m      4\u001b[0m     \u001b[0mprint\u001b[0m\u001b[1;33m(\u001b[0m\u001b[0mi\u001b[0m\u001b[1;33m.\u001b[0m\u001b[0mmessage\u001b[0m\u001b[1;33m)\u001b[0m\u001b[1;33m\u001b[0m\u001b[1;33m\u001b[0m\u001b[0m\n\u001b[0;32m      5\u001b[0m \u001b[1;33m\u001b[0m\u001b[0m\n",
      "\u001b[1;31mTypeError\u001b[0m: 'coroutine' object is not iterable"
     ]
    }
   ],
   "source": [
    "bot = telegram.Bot(token = '5613507376:AAHiMYXYfiJ38P-LAAl8vioYIN3XL7G4roU')\n",
    "\n",
    "for i in bot.getUpdates() :\n",
    "    print(i.message)\n",
    "    \n",
    "#오류 ㅠ.ㅠ"
   ]
  },
  {
   "cell_type": "code",
   "execution_count": 114,
   "metadata": {},
   "outputs": [
    {
     "data": {
      "text/plain": [
       "Message(channel_chat_created=False, chat=Chat(first_name='정', id=6233637660, last_name='다운', type=<ChatType.PRIVATE>), date=datetime.datetime(2023, 3, 1, 9, 56, 26, tzinfo=<UTC>), delete_chat_photo=False, from_user=User(first_name='inflearntestbot', id=5613507376, is_bot=True, username='inflearntest_bot'), group_chat_created=False, message_id=4, supergroup_chat_created=False, text='테스트입니다.')"
      ]
     },
     "execution_count": 114,
     "metadata": {},
     "output_type": "execute_result"
    }
   ],
   "source": [
    "await bot.sendMessage(chat_id=6233637660, text=\"테스트입니다.\")"
   ]
  },
  {
   "cell_type": "code",
   "execution_count": 115,
   "metadata": {},
   "outputs": [],
   "source": [
    "# 텔레그램 메세지\n",
    "import telegram\n",
    "import requests\n",
    "from bs4 import BeautifulSoup\n",
    "\n",
    "\n",
    "url = 'http://www.cgv.co.kr/theaters/?areacode=206%2C04%2C06&theaterCode=0090&date=202303011'\n",
    "driver.get(url)\n",
    "\n",
    "driver.switch_to.frame('ifrm_movie_time_table')\n",
    "\n",
    "html=driver.page_source\n",
    "\n",
    "soup=BeautifulSoup(html,'xml')\n",
    "\n",
    "imax=soup.select_one('span.imax')\n",
    "\n",
    "if(imax) :\n",
    "    iimax = imax.find_parent('div', class_='col-times')\n",
    "    title = iimax.select_one('div.info-movie > a > strong').text.strip()\n",
    "    await bot.sendMessage(chat_id=6233637660, text=title + ' ' + 'IMAX 예매가 열렸습니다.')\n",
    "    #print(title + ' ' + 'IMAX 예매가 열렸습니다.')\n",
    "    \n",
    "else :\n",
    "    await bot.sendMessage(chat_id=6233637660, text='IMAX 예매가 아직 열리지 않았습니다.')\n",
    "    #print('IMAX 예매가 아직 열리지 않았습니다.')"
   ]
  },
  {
   "cell_type": "code",
   "execution_count": null,
   "metadata": {},
   "outputs": [],
   "source": []
  }
 ],
 "metadata": {
  "kernelspec": {
   "display_name": "Python 3",
   "language": "python",
   "name": "python3"
  },
  "language_info": {
   "codemirror_mode": {
    "name": "ipython",
    "version": 3
   },
   "file_extension": ".py",
   "mimetype": "text/x-python",
   "name": "python",
   "nbconvert_exporter": "python",
   "pygments_lexer": "ipython3",
   "version": "3.8.5"
  }
 },
 "nbformat": 4,
 "nbformat_minor": 4
}
